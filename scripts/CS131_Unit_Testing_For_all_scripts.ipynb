{
  "nbformat": 4,
  "nbformat_minor": 0,
  "metadata": {
    "colab": {
      "provenance": []
    },
    "kernelspec": {
      "name": "python3",
      "display_name": "Python 3"
    },
    "language_info": {
      "name": "python"
    }
  },
  "cells": [
    {
      "cell_type": "markdown",
      "source": [
        "###address standardize:"
      ],
      "metadata": {
        "id": "pmKuTyO-CCOQ"
      }
    },
    {
      "cell_type": "code",
      "source": [
        "%%writefile script.sh\n",
        "\n",
        "#!/bin/bash\n",
        "\n",
        "input=$1\n",
        "output=$2\n",
        "# Columns to capitalize (0-based indices, e.g., 2 for \"city\" and 3 for \"country\")\n",
        "column_to_capitalize=$3\n",
        "\n",
        "# Process the file\n",
        "awk -F\",\" -v col=$column_to_capitalize 'BEGIN {OFS = FS}\n",
        "NR == 1 {print; next} {\n",
        "    $col = toupper($col);\n",
        "    print\n",
        "}' \"$input\" > \"$output\"\n"
      ],
      "metadata": {
        "colab": {
          "base_uri": "https://localhost:8080/"
        },
        "id": "UFwmpBzgCAOb",
        "outputId": "5193394e-8222-4a18-851d-17363bf52eb5"
      },
      "execution_count": null,
      "outputs": [
        {
          "output_type": "stream",
          "name": "stdout",
          "text": [
            "Overwriting script.sh\n"
          ]
        }
      ]
    },
    {
      "cell_type": "code",
      "source": [
        "!chmod +x script.sh"
      ],
      "metadata": {
        "id": "hTlfukra-YnJ"
      },
      "execution_count": null,
      "outputs": []
    },
    {
      "cell_type": "code",
      "source": [
        "%%writefile test_input.csv\n",
        "\n",
        "VIN,County,City,State,Postal Code,Model Year,Make,Model,Electric Vehicle Type,Clean Alternative Fuel Vehicle (CAFV) Eligibility,Electric Range,Base MSRP,Legislative District,DOL Vehicle ID,Vehicle Location,Electric Utility,2020 Census Tract\n",
        "1234,King,Seattle,WA,98101,2020,Tesla,Model S,Battery Electric Vehicle (BEV),Eligible,320,80000,37,1,,PSE,3.14\n",
        "5678,King,Redmond,WA,98052,2021,Nissan,Leaf,Battery Electric Vehicle (BEV),Eligible,150,35000,48,2,,Seattle City Light,3.22\n",
        "9101,Pierce,Tacoma,WA,98402,2019,Chevrolet,Bolt EV,Battery Electric Vehicle (BEV),Eligible,200,45000,25,3,,Tacoma Power,3.10\n",
        "1122,Snohomish,Everett,WA,98201,2022,BMW,i3,Plug-in Hybrid Electric Vehicle (PHEV),Eligible,140,42000,38,4,,Snohomish County PUD,3.50\n",
        "\n"
      ],
      "metadata": {
        "colab": {
          "base_uri": "https://localhost:8080/"
        },
        "id": "BwvjhAeX-anF",
        "outputId": "1c12decb-d9d9-4441-a01d-5d0668719170"
      },
      "execution_count": null,
      "outputs": [
        {
          "output_type": "stream",
          "name": "stdout",
          "text": [
            "Overwriting test_input.csv\n"
          ]
        }
      ]
    },
    {
      "cell_type": "code",
      "source": [
        "!./script.sh test_input.csv test_output.csv 3"
      ],
      "metadata": {
        "id": "wi5OJaWq-dfE"
      },
      "execution_count": null,
      "outputs": []
    },
    {
      "cell_type": "code",
      "source": [
        "!cat test_output.csv\n"
      ],
      "metadata": {
        "colab": {
          "base_uri": "https://localhost:8080/"
        },
        "id": "bwU4-Vqf-u1i",
        "outputId": "12e757bf-9332-4ac5-cd49-8f3b29d17fca"
      },
      "execution_count": null,
      "outputs": [
        {
          "output_type": "stream",
          "name": "stdout",
          "text": [
            "\n",
            "VIN,County,CITY,State,Postal Code,Model Year,Make,Model,Electric Vehicle Type,Clean Alternative Fuel Vehicle (CAFV) Eligibility,Electric Range,Base MSRP,Legislative District,DOL Vehicle ID,Vehicle Location,Electric Utility,2020 Census Tract\n",
            "1234,King,SEATTLE,WA,98101,2020,Tesla,Model S,Battery Electric Vehicle (BEV),Eligible,320,80000,37,1,,PSE,3.14\n",
            "5678,King,REDMOND,WA,98052,2021,Nissan,Leaf,Battery Electric Vehicle (BEV),Eligible,150,35000,48,2,,Seattle City Light,3.22\n",
            "9101,Pierce,TACOMA,WA,98402,2019,Chevrolet,Bolt EV,Battery Electric Vehicle (BEV),Eligible,200,45000,25,3,,Tacoma Power,3.10\n",
            "1122,Snohomish,EVERETT,WA,98201,2022,BMW,i3,Plug-in Hybrid Electric Vehicle (PHEV),Eligible,140,42000,38,4,,Snohomish County PUD,3.50\n",
            ",,\n"
          ]
        }
      ]
    },
    {
      "cell_type": "markdown",
      "source": [
        "###Cafv_standardize.sh"
      ],
      "metadata": {
        "id": "cPfoZ1Y_CUxR"
      }
    },
    {
      "cell_type": "code",
      "source": [
        "%%writefile replace_eligibility.sh\n",
        "\n",
        "#!/bin/bash\n",
        "\n",
        "input=$1\n",
        "output=$2\n",
        "\n",
        "# Replace \"Clean Alternative Fuel Vehicle Eligible\" with \"ELIGIBLE\" and\n",
        "# \"Not eligible due to low battery range\" with \"INELIGIBLE\" in column 10\n",
        "# \"Eligibility unknown as battery range has not been researched\" with \"N/A\"\n",
        "awk -F',' -v OFS=',' '\n",
        "    {\n",
        "        # Replace in column 10\n",
        "        if (NR == 1) {\n",
        "           print;\n",
        "           next\n",
        "        }\n",
        "        if ($10 == \"Clean Alternative Fuel Vehicle Eligible\") {\n",
        "            $10 = \"ELIGIBLE\"\n",
        "        } else if ($10 == \"Not eligible due to low battery range\") {\n",
        "            $10 = \"INELIGIBLE\"\n",
        "        } else {\n",
        "            $10 = \"N/A\"\n",
        "        }\n",
        "        print $0\n",
        "    }' \"$input\" > \"$output\"\n"
      ],
      "metadata": {
        "colab": {
          "base_uri": "https://localhost:8080/"
        },
        "id": "rokogi-8CtCv",
        "outputId": "0969be79-1fed-42eb-d09a-65b63affbbc3"
      },
      "execution_count": null,
      "outputs": [
        {
          "output_type": "stream",
          "name": "stdout",
          "text": [
            "Overwriting replace_eligibility.sh\n"
          ]
        }
      ]
    },
    {
      "cell_type": "code",
      "source": [
        "!chmod +x replace_eligibility.sh\n"
      ],
      "metadata": {
        "id": "EVs4utYRC096"
      },
      "execution_count": null,
      "outputs": []
    },
    {
      "cell_type": "code",
      "source": [
        "%%writefile test_input.csv\n",
        "\n",
        "VIN,County,City,State,Postal Code,Model Year,Make,Model,Electric Vehicle Type,Clean Alternative Fuel Vehicle Eligibility,Electric Range,Base MSRP,Legislative District,DOL Vehicle ID,Vehicle Location,Electric Utility,2020 Census Tract\n",
        "1234,King,Seattle,WA,98101,2020,Tesla,Model S,Battery Electric Vehicle (BEV),Clean Alternative Fuel Vehicle Eligible,320,80000,37,1,,PSE,3.14\n",
        "5678,King,Redmond,WA,98052,2021,Nissan,Leaf,Battery Electric Vehicle (BEV),Not eligible due to low battery range,150,35000,48,2,,Seattle City Light,3.22\n",
        "9101,Pierce,Tacoma,WA,98402,2019,Chevrolet,Bolt EV,Battery Electric Vehicle (BEV),Eligibility unknown as battery range has not been researched,200,45000,25,3,,Tacoma Power,3.10\n",
        "1122,Snohomish,Everett,WA,98201,2022,BMW,i3,Plug-in Hybrid Electric Vehicle (PHEV),Clean Alternative Fuel Vehicle Eligible,140,42000,38,4,,Snohomish County PUD,3.50\n"
      ],
      "metadata": {
        "colab": {
          "base_uri": "https://localhost:8080/"
        },
        "id": "kIgIld5wGAMa",
        "outputId": "feb44a6c-bad0-4ba2-d783-7438740c899b"
      },
      "execution_count": null,
      "outputs": [
        {
          "output_type": "stream",
          "name": "stdout",
          "text": [
            "Overwriting test_input.csv\n"
          ]
        }
      ]
    },
    {
      "cell_type": "code",
      "source": [
        "!./replace_eligibility.sh test_input.csv test_output.csv\n"
      ],
      "metadata": {
        "id": "Aw8jEDJZH05M"
      },
      "execution_count": null,
      "outputs": []
    },
    {
      "cell_type": "code",
      "source": [
        "!cat test_output.csv\n"
      ],
      "metadata": {
        "colab": {
          "base_uri": "https://localhost:8080/"
        },
        "id": "JQ5WP0IgH7Zu",
        "outputId": "5d9eb911-db71-4d50-aae8-41dd4c9ba7d5"
      },
      "execution_count": null,
      "outputs": [
        {
          "output_type": "stream",
          "name": "stdout",
          "text": [
            "\n",
            "VIN,County,City,State,Postal Code,Model Year,Make,Model,Electric Vehicle Type,N/A,Electric Range,Base MSRP,Legislative District,DOL Vehicle ID,Vehicle Location,Electric Utility,2020 Census Tract\n",
            "1234,King,Seattle,WA,98101,2020,Tesla,Model S,Battery Electric Vehicle (BEV),ELIGIBLE,320,80000,37,1,,PSE,3.14\n",
            "5678,King,Redmond,WA,98052,2021,Nissan,Leaf,Battery Electric Vehicle (BEV),INELIGIBLE,150,35000,48,2,,Seattle City Light,3.22\n",
            "9101,Pierce,Tacoma,WA,98402,2019,Chevrolet,Bolt EV,Battery Electric Vehicle (BEV),N/A,200,45000,25,3,,Tacoma Power,3.10\n",
            "1122,Snohomish,Everett,WA,98201,2022,BMW,i3,Plug-in Hybrid Electric Vehicle (PHEV),ELIGIBLE,140,42000,38,4,,Snohomish County PUD,3.50\n"
          ]
        }
      ]
    },
    {
      "cell_type": "markdown",
      "source": [
        "###Clean_non_WA.sh"
      ],
      "metadata": {
        "id": "19Jj5X-AIDXF"
      }
    },
    {
      "cell_type": "code",
      "source": [
        "%%writefile filter_wa_rows.sh\n",
        "\n",
        "#!/bin/bash\n",
        "\n",
        "input=$1\n",
        "output=$2\n",
        "\n",
        "# Use awk to keep the header and only rows where\n",
        "# the 4th column contains \"WA\"\n",
        "awk -F',' -v OFS=',' '\n",
        "    NR == 1 {print $0}  # Print header (first row)\n",
        "    # Print rows where the 4th column is \"WA\"\n",
        "    NR > 1 && $4 == \"WA\" {print $0}\n",
        "' \"$input\" > \"$output\"\n"
      ],
      "metadata": {
        "colab": {
          "base_uri": "https://localhost:8080/"
        },
        "id": "hiVeKWUCIO_u",
        "outputId": "0515237e-9d8d-4ee0-9ed6-b65b35087e26"
      },
      "execution_count": null,
      "outputs": [
        {
          "output_type": "stream",
          "name": "stdout",
          "text": [
            "Overwriting filter_wa_rows.sh\n"
          ]
        }
      ]
    },
    {
      "cell_type": "code",
      "source": [
        "!chmod +x filter_wa_rows.sh\n"
      ],
      "metadata": {
        "id": "2P0ktgSVIcze"
      },
      "execution_count": null,
      "outputs": []
    },
    {
      "cell_type": "code",
      "source": [
        "%%writefile test_input.csv\n",
        "\n",
        "VIN,County,City,State,Postal Code,Model Year,Make,Model,Electric Vehicle Type,Clean Alternative Fuel Vehicle Eligibility,Electric Range,Base MSRP,Legislative District,DOL Vehicle ID,Vehicle Location,Electric Utility,2020 Census Tract\n",
        "1234,King,Seattle,WA,98101,2020,Tesla,Model S,Battery Electric Vehicle (BEV),Clean Alternative Fuel Vehicle Eligible,320,80000,37,1,,PSE,3.14\n",
        "5678,King,Redmond,WA,98052,2021,Nissan,Leaf,Battery Electric Vehicle (BEV),Not eligible due to low battery range,150,35000,48,2,,Seattle City Light,3.22\n",
        "9101,Pierce,Tacoma,CA,90210,2019,Chevrolet,Bolt EV,Battery Electric Vehicle (BEV),Eligibility unknown as battery range has not been researched,200,45000,25,3,,Tacoma Power,3.10\n",
        "1122,Snohomish,Everett,WA,98201,2022,BMW,i3,Plug-in Hybrid Electric Vehicle (PHEV),Clean Alternative Fuel Vehicle Eligible,140,42000,38,4,,Snohomish County PUD,3.50\n"
      ],
      "metadata": {
        "colab": {
          "base_uri": "https://localhost:8080/"
        },
        "id": "KDf-gDYIIfT8",
        "outputId": "e8d79893-305b-459e-b9e0-1473a5647449"
      },
      "execution_count": null,
      "outputs": [
        {
          "output_type": "stream",
          "name": "stdout",
          "text": [
            "Overwriting test_input.csv\n"
          ]
        }
      ]
    },
    {
      "cell_type": "code",
      "source": [
        "!./filter_wa_rows.sh test_input.csv test_output.csv\n"
      ],
      "metadata": {
        "id": "TLHFrd3wIiYa"
      },
      "execution_count": null,
      "outputs": []
    },
    {
      "cell_type": "code",
      "source": [
        "!cat test_output.csv\n"
      ],
      "metadata": {
        "colab": {
          "base_uri": "https://localhost:8080/"
        },
        "id": "LtCFt7pJIj40",
        "outputId": "705c3c7f-4eac-4034-a298-36298df4b7df"
      },
      "execution_count": null,
      "outputs": [
        {
          "output_type": "stream",
          "name": "stdout",
          "text": [
            "\n",
            "1234,King,Seattle,WA,98101,2020,Tesla,Model S,Battery Electric Vehicle (BEV),Clean Alternative Fuel Vehicle Eligible,320,80000,37,1,,PSE,3.14\n",
            "5678,King,Redmond,WA,98052,2021,Nissan,Leaf,Battery Electric Vehicle (BEV),Not eligible due to low battery range,150,35000,48,2,,Seattle City Light,3.22\n",
            "1122,Snohomish,Everett,WA,98201,2022,BMW,i3,Plug-in Hybrid Electric Vehicle (PHEV),Clean Alternative Fuel Vehicle Eligible,140,42000,38,4,,Snohomish County PUD,3.50\n"
          ]
        }
      ]
    },
    {
      "cell_type": "markdown",
      "source": [
        "###Coords_stndardize.sh"
      ],
      "metadata": {
        "id": "DoMB7DpCI5X9"
      }
    },
    {
      "cell_type": "code",
      "source": [
        "%%writefile remove_point_coordinates.sh\n",
        "\n",
        "#!/bin/bash\n",
        "\n",
        "# Input CSV file\n",
        "input_file=$1\n",
        "output_file=$2\n",
        "\n",
        "# Use awk to process each line of the CSV\n",
        "awk -F, '{\n",
        "    # Remove POINT ( and ) from column 15\n",
        "    gsub(/POINT \\(|\\)/, \"\", $15)\n",
        "    print\n",
        "}' OFS=, \"$input_file\" > \"$output_file\"\n"
      ],
      "metadata": {
        "colab": {
          "base_uri": "https://localhost:8080/"
        },
        "id": "o27FAWL9JKzE",
        "outputId": "fdb1cff1-a7c4-4847-c095-65ef7830dd95"
      },
      "execution_count": null,
      "outputs": [
        {
          "output_type": "stream",
          "name": "stdout",
          "text": [
            "Overwriting remove_point_coordinates.sh\n"
          ]
        }
      ]
    },
    {
      "cell_type": "code",
      "source": [
        "!chmod +x remove_point_coordinates.sh\n"
      ],
      "metadata": {
        "id": "YnqGF_TFJVf3"
      },
      "execution_count": null,
      "outputs": []
    },
    {
      "cell_type": "code",
      "source": [
        "%%writefile test_input.csv\n",
        "\n",
        "VIN,County,City,State,Postal Code,Model Year,Make,Model,Electric Vehicle Type,Clean Alternative Fuel Vehicle Eligibility,Electric Range,Base MSRP,Legislative District,DOL Vehicle ID,Vehicle Location,Electric Utility,2020 Census Tract\n",
        "1234,King,Seattle,WA,98101,2020,Tesla,Model S,Battery Electric Vehicle (BEV),Clean Alternative Fuel Vehicle Eligible,320,80000,37,1,POINT (122.33 -47.61),PSE,3.14\n",
        "5678,King,Redmond,WA,98052,2021,Nissan,Leaf,Battery Electric Vehicle (BEV),Not eligible due to low battery range,150,35000,48,2,POINT (122.12 -47.67),Seattle City Light,3.22\n",
        "9101,Pierce,Tacoma,CA,90210,2019,Chevrolet,Bolt EV,Battery Electric Vehicle (BEV),Eligibility unknown as battery range has not been researched,200,45000,25,3,POINT (122.44 -47.25),Tacoma Power,3.10\n",
        "1122,Snohomish,Everett,WA,98201,2022,BMW,i3,Plug-in Hybrid Electric Vehicle (PHEV),Clean Alternative Fuel Vehicle Eligible,140,42000,38,4,POINT (122.20 -47.98),Snohomish County PUD,3.50\n"
      ],
      "metadata": {
        "colab": {
          "base_uri": "https://localhost:8080/"
        },
        "id": "c_9HDrWtJVoT",
        "outputId": "f33a3acc-2f2b-4a29-a7d8-2a725e49d454"
      },
      "execution_count": null,
      "outputs": [
        {
          "output_type": "stream",
          "name": "stdout",
          "text": [
            "Overwriting test_input.csv\n"
          ]
        }
      ]
    },
    {
      "cell_type": "code",
      "source": [
        "!./remove_point_coordinates.sh test_input.csv test_output.csv\n"
      ],
      "metadata": {
        "id": "-who7rHrJWAl"
      },
      "execution_count": null,
      "outputs": []
    },
    {
      "cell_type": "code",
      "source": [
        "!cat test_output.csv\n"
      ],
      "metadata": {
        "colab": {
          "base_uri": "https://localhost:8080/"
        },
        "id": "KS7495f6JWQx",
        "outputId": "d652fe3c-70de-49d2-d6ef-235c8080761c"
      },
      "execution_count": null,
      "outputs": [
        {
          "output_type": "stream",
          "name": "stdout",
          "text": [
            "\n",
            "VIN,County,City,State,Postal Code,Model Year,Make,Model,Electric Vehicle Type,Clean Alternative Fuel Vehicle Eligibility,Electric Range,Base MSRP,Legislative District,DOL Vehicle ID,Vehicle Location,Electric Utility,2020 Census Tract\n",
            "1234,King,Seattle,WA,98101,2020,Tesla,Model S,Battery Electric Vehicle (BEV),Clean Alternative Fuel Vehicle Eligible,320,80000,37,1,122.33 -47.61,PSE,3.14\n",
            "5678,King,Redmond,WA,98052,2021,Nissan,Leaf,Battery Electric Vehicle (BEV),Not eligible due to low battery range,150,35000,48,2,122.12 -47.67,Seattle City Light,3.22\n",
            "9101,Pierce,Tacoma,CA,90210,2019,Chevrolet,Bolt EV,Battery Electric Vehicle (BEV),Eligibility unknown as battery range has not been researched,200,45000,25,3,122.44 -47.25,Tacoma Power,3.10\n",
            "1122,Snohomish,Everett,WA,98201,2022,BMW,i3,Plug-in Hybrid Electric Vehicle (PHEV),Clean Alternative Fuel Vehicle Eligible,140,42000,38,4,122.20 -47.98,Snohomish County PUD,3.50\n"
          ]
        }
      ]
    },
    {
      "cell_type": "markdown",
      "source": [
        "###Empty_Values"
      ],
      "metadata": {
        "id": "LhuOtYroKGVK"
      }
    },
    {
      "cell_type": "code",
      "source": [
        "%%writefile find_empty_rows.sh\n",
        "\n",
        "#!/bin/bash\n",
        "\n",
        "input=$1\n",
        "\n",
        "awk -F',' '{\n",
        "    for (i = 1; i <= NF; i++) {\n",
        "        if ($i == \"\") {\n",
        "            print $0\n",
        "            break\n",
        "        }\n",
        "    }\n",
        "}' \"$input\"\n"
      ],
      "metadata": {
        "colab": {
          "base_uri": "https://localhost:8080/"
        },
        "id": "tR7vl4YIKKVc",
        "outputId": "2fd04674-adb5-418f-cfd3-5e97fa97f8da"
      },
      "execution_count": null,
      "outputs": [
        {
          "output_type": "stream",
          "name": "stdout",
          "text": [
            "Overwriting find_empty_rows.sh\n"
          ]
        }
      ]
    },
    {
      "cell_type": "code",
      "source": [
        "!chmod +x find_empty_rows.sh\n"
      ],
      "metadata": {
        "id": "hthKluFCKLVs"
      },
      "execution_count": null,
      "outputs": []
    },
    {
      "cell_type": "code",
      "source": [
        "%%writefile test_input.csv\n",
        "\n",
        "VIN,County,City,State,Postal Code,Model Year,Make,Model,Electric Vehicle Type,Clean Alternative Fuel Vehicle Eligibility,Electric Range,Base MSRP,Legislative District,DOL Vehicle ID,Vehicle Location,Electric Utility,2020 Census Tract\n",
        "1234,King,Seattle,WA,98101,2020,Tesla,Model S,Battery Electric Vehicle (BEV),Clean Alternative Fuel Vehicle Eligible,320,80000,37,1,,PSE,3.14\n",
        "5678,King,Redmond,WA,98052,2021,Nissan,Leaf,Battery Electric Vehicle (BEV),Not eligible due to low battery range,150,35000,48,2,,Seattle City Light,3.22\n",
        "9101,Pierce,,CA,90210,2019,Chevrolet,Bolt EV,Battery Electric Vehicle (BEV),Eligibility unknown as battery range has not been researched,200,45000,25,3,,Tacoma Power,3.10\n",
        "1122,Snohomish,Everett,WA,98201,2022,BMW,i3,Plug-in Hybrid Electric Vehicle (PHEV),Clean Alternative Fuel Vehicle Eligible,140,42000,38,4,,Snohomish County PUD,3.50\n"
      ],
      "metadata": {
        "colab": {
          "base_uri": "https://localhost:8080/"
        },
        "id": "5UBFNZlXKLbb",
        "outputId": "27a86906-08f8-4277-c7a0-d75e0edfa6d7"
      },
      "execution_count": null,
      "outputs": [
        {
          "output_type": "stream",
          "name": "stdout",
          "text": [
            "Overwriting test_input.csv\n"
          ]
        }
      ]
    },
    {
      "cell_type": "code",
      "source": [
        "!./find_empty_rows.sh test_input.csv > test_output.csv\n"
      ],
      "metadata": {
        "id": "Hkb-3028KLjv"
      },
      "execution_count": null,
      "outputs": []
    },
    {
      "cell_type": "code",
      "source": [
        "!cat test_output.csv\n"
      ],
      "metadata": {
        "colab": {
          "base_uri": "https://localhost:8080/"
        },
        "id": "CgUpUr9tKLqt",
        "outputId": "b33cd482-0b7f-4711-9151-9d3f4a730bb2"
      },
      "execution_count": null,
      "outputs": [
        {
          "output_type": "stream",
          "name": "stdout",
          "text": [
            "1234,King,Seattle,WA,98101,2020,Tesla,Model S,Battery Electric Vehicle (BEV),Clean Alternative Fuel Vehicle Eligible,320,80000,37,1,,PSE,3.14\n",
            "5678,King,Redmond,WA,98052,2021,Nissan,Leaf,Battery Electric Vehicle (BEV),Not eligible due to low battery range,150,35000,48,2,,Seattle City Light,3.22\n",
            "9101,Pierce,,CA,90210,2019,Chevrolet,Bolt EV,Battery Electric Vehicle (BEV),Eligibility unknown as battery range has not been researched,200,45000,25,3,,Tacoma Power,3.10\n",
            "1122,Snohomish,Everett,WA,98201,2022,BMW,i3,Plug-in Hybrid Electric Vehicle (PHEV),Clean Alternative Fuel Vehicle Eligible,140,42000,38,4,,Snohomish County PUD,3.50\n"
          ]
        }
      ]
    },
    {
      "cell_type": "markdown",
      "source": [
        "###eu_standardize.sh"
      ],
      "metadata": {
        "id": "myrbPz2jLArU"
      }
    },
    {
      "cell_type": "code",
      "source": [
        "%%writefile remove_inc.sh\n",
        "\n",
        "#!/bin/bash\n",
        "\n",
        "input=$1  # Input file\n",
        "output=$2  # Output file\n",
        "\n",
        "# Use sed to replace \", INC\" with \"\" in every line\n",
        "sed 's/, INC//g' \"$input\" > \"$output\"\n"
      ],
      "metadata": {
        "colab": {
          "base_uri": "https://localhost:8080/"
        },
        "id": "5F3biSN8LHuI",
        "outputId": "d6031b6f-2527-49ee-b6e1-f2e9f76c97f3"
      },
      "execution_count": null,
      "outputs": [
        {
          "output_type": "stream",
          "name": "stdout",
          "text": [
            "Overwriting remove_inc.sh\n"
          ]
        }
      ]
    },
    {
      "cell_type": "code",
      "source": [
        "!chmod +x remove_inc.sh\n"
      ],
      "metadata": {
        "id": "4UCN-ZMVLOiZ"
      },
      "execution_count": null,
      "outputs": []
    },
    {
      "cell_type": "code",
      "source": [
        "%%writefile test_input.csv\n",
        "\n",
        "VIN,County,City,State,Postal Code,Model Year,Make,Model,Electric Vehicle Type,Clean Alternative Fuel Vehicle Eligibility,Electric Range,Base MSRP,Legislative District,DOL Vehicle ID,Vehicle Location,Electric Utility,2020 Census Tract\n",
        "1234,King,Seattle,WA,98101,2020,Tesla,Model S,Battery Electric Vehicle (BEV),Clean Alternative Fuel Vehicle Eligible,320,80000,37,1,POINT (122.33 -47.61),PSE, INC,3.14\n",
        "5678,King,Redmond,WA,98052,2021,Nissan,Leaf,Battery Electric Vehicle (BEV),Not eligible due to low battery range,150,35000,48,2,POINT (122.12 -47.67),Seattle City Light, INC,3.22\n",
        "9101,Pierce,Tacoma,CA,90210,2019,Chevrolet,Bolt EV,Battery Electric Vehicle (BEV),Eligibility unknown as battery range has not been researched,200,45000,25,3,POINT (122.44 -47.25),Tacoma Power, INC,3.10\n",
        "1122,Snohomish,Everett,WA,98201,2022,BMW,i3,Plug-in Hybrid Electric Vehicle (PHEV),Clean Alternative Fuel Vehicle Eligible,140,42000,38,4,POINT (122.20 -47.98),Snohomish County PUD, INC,3.50\n"
      ],
      "metadata": {
        "colab": {
          "base_uri": "https://localhost:8080/"
        },
        "id": "yjxsM_S_MAic",
        "outputId": "cc7d57d7-b314-4e33-be8e-d4443a2f1309"
      },
      "execution_count": null,
      "outputs": [
        {
          "output_type": "stream",
          "name": "stdout",
          "text": [
            "Overwriting test_input.csv\n"
          ]
        }
      ]
    },
    {
      "cell_type": "code",
      "source": [
        "!./remove_inc.sh test_input.csv test_output.csv\n"
      ],
      "metadata": {
        "id": "EiLkxaDQLOmm"
      },
      "execution_count": null,
      "outputs": []
    },
    {
      "cell_type": "code",
      "source": [
        "!cat test_output.csv\n"
      ],
      "metadata": {
        "colab": {
          "base_uri": "https://localhost:8080/"
        },
        "id": "IRnEj8B_MBfJ",
        "outputId": "4e8ee3e5-eb38-4e1e-95f5-3c7f89a45463"
      },
      "execution_count": null,
      "outputs": [
        {
          "output_type": "stream",
          "name": "stdout",
          "text": [
            "\n",
            "VIN,County,City,State,Postal Code,Model Year,Make,Model,Electric Vehicle Type,Clean Alternative Fuel Vehicle Eligibility,Electric Range,Base MSRP,Legislative District,DOL Vehicle ID,Vehicle Location,Electric Utility,2020 Census Tract\n",
            "1234,King,Seattle,WA,98101,2020,Tesla,Model S,Battery Electric Vehicle (BEV),Clean Alternative Fuel Vehicle Eligible,320,80000,37,1,POINT (122.33 -47.61),PSE,3.14\n",
            "5678,King,Redmond,WA,98052,2021,Nissan,Leaf,Battery Electric Vehicle (BEV),Not eligible due to low battery range,150,35000,48,2,POINT (122.12 -47.67),Seattle City Light,3.22\n",
            "9101,Pierce,Tacoma,CA,90210,2019,Chevrolet,Bolt EV,Battery Electric Vehicle (BEV),Eligibility unknown as battery range has not been researched,200,45000,25,3,POINT (122.44 -47.25),Tacoma Power,3.10\n",
            "1122,Snohomish,Everett,WA,98201,2022,BMW,i3,Plug-in Hybrid Electric Vehicle (PHEV),Clean Alternative Fuel Vehicle Eligible,140,42000,38,4,POINT (122.20 -47.98),Snohomish County PUD,3.50\n"
          ]
        }
      ]
    },
    {
      "cell_type": "markdown",
      "source": [
        "###ev_type_standardize.sh"
      ],
      "metadata": {
        "id": "b1Wx0qTVMNcK"
      }
    },
    {
      "cell_type": "code",
      "source": [
        "%%writefile replace_vehicle_type.sh\n",
        "\n",
        "#!/bin/bash\n",
        "\n",
        "input=$1\n",
        "output=$2\n",
        "\n",
        "# Replace any occurrence of \"Plug-in Hybrid Electric Vehicle (PHEV)\" with \"HYBRID\"\n",
        "# and any occurrence of \"Battery Electric Vehicle (BEV)\" with \"BATTERY\" in column 9\n",
        "awk -F',' -v OFS=',' '\n",
        "    {\n",
        "        if ($9 == \"Plug-in Hybrid Electric Vehicle (PHEV)\") {\n",
        "            $9 = \"HYBRID\"\n",
        "        }\n",
        "        if ($9 == \"Battery Electric Vehicle (BEV)\") {\n",
        "            $9 = \"BATTERY\"\n",
        "        }\n",
        "\n",
        "        # Print the modified row\n",
        "        print $0\n",
        "    }' \"$input\" > \"$output\"\n"
      ],
      "metadata": {
        "colab": {
          "base_uri": "https://localhost:8080/"
        },
        "id": "JrgqJH4HMRgE",
        "outputId": "1b940125-d397-4a17-b8ad-66510d270bde"
      },
      "execution_count": null,
      "outputs": [
        {
          "output_type": "stream",
          "name": "stdout",
          "text": [
            "Overwriting replace_vehicle_type.sh\n"
          ]
        }
      ]
    },
    {
      "cell_type": "code",
      "source": [
        "!chmod +x replace_vehicle_type.sh\n"
      ],
      "metadata": {
        "id": "vP9aIIDHMb-0"
      },
      "execution_count": null,
      "outputs": []
    },
    {
      "cell_type": "code",
      "source": [
        "%%writefile test_input.csv\n",
        "\n",
        "VIN,County,City,State,Postal Code,Model Year,Make,Model,Electric Vehicle Type,Clean Alternative Fuel Vehicle Eligibility,Electric Range,Base MSRP,Legislative District,DOL Vehicle ID,Vehicle Location,Electric Utility,2020 Census Tract\n",
        "1234,King,Seattle,WA,98101,2020,Tesla,Model S,Battery Electric Vehicle (BEV),Clean Alternative Fuel Vehicle Eligible,320,80000,37,1,POINT (122.33 -47.61),PSE,3.14\n",
        "5678,King,Redmond,WA,98052,2021,Nissan,Leaf,Battery Electric Vehicle (BEV),Not eligible due to low battery range,150,35000,48,2,POINT (122.12 -47.67),Seattle City Light,3.22\n",
        "9101,Pierce,Tacoma,WA,98402,2019,Chevrolet,Bolt EV,Plug-in Hybrid Electric Vehicle (PHEV),Eligibility unknown as battery range has not been researched,200,45000,25,3,POINT (122.44 -47.25),Tacoma Power,3.10\n",
        "1122,Snohomish,Everett,WA,98201,2022,BMW,i3,Plug-in Hybrid Electric Vehicle (PHEV),Clean Alternative Fuel Vehicle Eligible,140,42000,38,4,POINT (122.20 -47.98),Snohomish County PUD,3.50\n"
      ],
      "metadata": {
        "colab": {
          "base_uri": "https://localhost:8080/"
        },
        "id": "JRktP-c0McGB",
        "outputId": "48f24d73-df10-4d7f-971d-723a58ce342d"
      },
      "execution_count": null,
      "outputs": [
        {
          "output_type": "stream",
          "name": "stdout",
          "text": [
            "Overwriting test_input.csv\n"
          ]
        }
      ]
    },
    {
      "cell_type": "code",
      "source": [
        "!./replace_vehicle_type.sh test_input.csv test_output.csv\n"
      ],
      "metadata": {
        "id": "zkwAQxyTMcQS"
      },
      "execution_count": null,
      "outputs": []
    },
    {
      "cell_type": "code",
      "source": [
        "!cat test_output.csv\n"
      ],
      "metadata": {
        "colab": {
          "base_uri": "https://localhost:8080/"
        },
        "id": "eZoJq_iSMcqG",
        "outputId": "e6c32593-e020-4eb1-c15b-0ea19e83b5fb"
      },
      "execution_count": null,
      "outputs": [
        {
          "output_type": "stream",
          "name": "stdout",
          "text": [
            "\n",
            "VIN,County,City,State,Postal Code,Model Year,Make,Model,Electric Vehicle Type,Clean Alternative Fuel Vehicle Eligibility,Electric Range,Base MSRP,Legislative District,DOL Vehicle ID,Vehicle Location,Electric Utility,2020 Census Tract\n",
            "1234,King,Seattle,WA,98101,2020,Tesla,Model S,BATTERY,Clean Alternative Fuel Vehicle Eligible,320,80000,37,1,POINT (122.33 -47.61),PSE,3.14\n",
            "5678,King,Redmond,WA,98052,2021,Nissan,Leaf,BATTERY,Not eligible due to low battery range,150,35000,48,2,POINT (122.12 -47.67),Seattle City Light,3.22\n",
            "9101,Pierce,Tacoma,WA,98402,2019,Chevrolet,Bolt EV,HYBRID,Eligibility unknown as battery range has not been researched,200,45000,25,3,POINT (122.44 -47.25),Tacoma Power,3.10\n",
            "1122,Snohomish,Everett,WA,98201,2022,BMW,i3,HYBRID,Clean Alternative Fuel Vehicle Eligible,140,42000,38,4,POINT (122.20 -47.98),Snohomish County PUD,3.50\n"
          ]
        }
      ]
    },
    {
      "cell_type": "markdown",
      "source": [
        "MSRP_Zero_clean.sh"
      ],
      "metadata": {
        "id": "QB5ApUGUM3oP"
      }
    },
    {
      "cell_type": "code",
      "source": [
        "%%writefile replace_msrp_values.sh\n",
        "\n",
        "#!/bin/bash\n",
        "\n",
        "input=$1\n",
        "output=$2\n",
        "\n",
        "# Step 1: Calculate the median of non-zero MSRP values\n",
        "awk -F',' '$12 > 0 {print $12}' \"$input\" | sort -n | awk '{\n",
        "    a[NR]=$1\n",
        "} END {\n",
        "    if (NR % 2 == 1)\n",
        "        print a[(NR + 1) / 2];\n",
        "    else\n",
        "        print (a[NR / 2] + a[NR / 2 + 1]) / 2;\n",
        "}' > msrp_median.txt\n",
        "\n",
        "# Read the median value from msrp_median.txt\n",
        "median=$(<msrp_median.txt)\n",
        "\n",
        "# Step 2: Calculate the average MSRP for each car make\n",
        "declare -A make_msrp_sum\n",
        "declare -A make_msrp_count\n",
        "\n",
        "# Collect sums and counts for each make (column 7)\n",
        "awk -F',' '{\n",
        "    if ($12 > 0) {\n",
        "        make_msrp_sum[$7] += $12;\n",
        "        make_msrp_count[$7] += 1;\n",
        "    }\n",
        "} END {\n",
        "    for (make in make_msrp_sum) {\n",
        "        average_msrp = make_msrp_sum[make] / make_msrp_count[make];\n",
        "        print make, average_msrp;\n",
        "    }\n",
        "}' \"$input\" > make_msrp_averages.txt\n",
        "\n",
        "# Step 3: Replace zeros in the Base MSRP column with the average MSRP for that make\n",
        "# If average MSRP is 0, replace it with the global median\n",
        "\n",
        "awk -F',' -v OFS=',' -v median=\"$median\" '\n",
        "    # Load average MSRP for each make into an associative array\n",
        "    NR == FNR {\n",
        "        make_avg[$1] = $2;\n",
        "        next;\n",
        "    }\n",
        "\n",
        "    {\n",
        "        # Get the make of the current row (column 7)\n",
        "        make = $7;\n",
        "\n",
        "        # Replace zero MSRP with the average for the make, or with the global median if average is 0\n",
        "        if ($12 == 0) {\n",
        "            if (make_avg[make] > 0) {\n",
        "                $12 = make_avg[make];\n",
        "            } else {\n",
        "                $12 = median;\n",
        "            }\n",
        "        }\n",
        "        print $0;\n",
        "    }\n",
        "' make_msrp_averages.txt \"$input\" > \"$output\"\n",
        "\n",
        "echo \"Zeros in the Base MSRP column have been replaced with the average MSRP for the car make, or with the median if no average exists.\"\n"
      ],
      "metadata": {
        "colab": {
          "base_uri": "https://localhost:8080/"
        },
        "id": "rCGwDYXRM8C7",
        "outputId": "269be5bf-aed3-4261-f4cf-33c0b7daccf3"
      },
      "execution_count": null,
      "outputs": [
        {
          "output_type": "stream",
          "name": "stdout",
          "text": [
            "Overwriting replace_msrp_values.sh\n"
          ]
        }
      ]
    },
    {
      "cell_type": "code",
      "source": [
        "!chmod +x replace_msrp_values.sh\n"
      ],
      "metadata": {
        "id": "ZkuWnKs7M8M9"
      },
      "execution_count": null,
      "outputs": []
    },
    {
      "cell_type": "code",
      "source": [
        "%%writefile test_input.csv\n",
        "\n",
        "VIN,County,City,State,Postal Code,Model Year,Make,Model,Electric Vehicle Type,Clean Alternative Fuel Vehicle Eligibility,Electric Range,Base MSRP,Legislative District,DOL Vehicle ID,Vehicle Location,Electric Utility,2020 Census Tract\n",
        "1234,King,Seattle,WA,98101,2020,Tesla,Model S,Battery Electric Vehicle (BEV),Clean Alternative Fuel Vehicle Eligible,320,80000,37,1,POINT (122.33 -47.61),PSE,3.14\n",
        "5678,King,Redmond,WA,98052,2021,Nissan,Leaf,Battery Electric Vehicle (BEV),Not eligible due to low battery range,150,35000,48,2,POINT (122.12 -47.67),Seattle City Light,3.22\n",
        "9101,Pierce,Tacoma,WA,98402,2019,Chevrolet,Bolt EV,Battery Electric Vehicle (BEV),Eligibility unknown as battery range has not been researched,200,0,25,3,POINT (122.44 -47.25),Tacoma Power,3.10\n",
        "1122,Snohomish,Everett,WA,98201,2022,BMW,i3,Plug-in Hybrid Electric Vehicle (PHEV),Clean Alternative Fuel Vehicle Eligible,140,0,38,4,POINT (122.20 -47.98),Snohomish County PUD,3.50\n"
      ],
      "metadata": {
        "colab": {
          "base_uri": "https://localhost:8080/"
        },
        "id": "bbpIvRb5M8SZ",
        "outputId": "d641df34-04bf-43e8-ce12-ab4b9893c9fa"
      },
      "execution_count": null,
      "outputs": [
        {
          "output_type": "stream",
          "name": "stdout",
          "text": [
            "Overwriting test_input.csv\n"
          ]
        }
      ]
    },
    {
      "cell_type": "code",
      "source": [
        "!./replace_msrp_values.sh test_input.csv test_output.csv\n"
      ],
      "metadata": {
        "colab": {
          "base_uri": "https://localhost:8080/"
        },
        "id": "iRQFpZ00M8YU",
        "outputId": "59482fd4-b16b-40c2-c0d8-cb324743a722"
      },
      "execution_count": null,
      "outputs": [
        {
          "output_type": "stream",
          "name": "stdout",
          "text": [
            "Zeros in the Base MSRP column have been replaced with the average MSRP for the car make, or with the median if no average exists.\n"
          ]
        }
      ]
    },
    {
      "cell_type": "code",
      "source": [
        "!cat test_output.csv\n"
      ],
      "metadata": {
        "colab": {
          "base_uri": "https://localhost:8080/"
        },
        "id": "8xmzZ93AM8fH",
        "outputId": "c766df09-5590-4ad9-8163-89c3fc433831"
      },
      "execution_count": null,
      "outputs": [
        {
          "output_type": "stream",
          "name": "stdout",
          "text": [
            "\n",
            "VIN,County,City,State,Postal Code,Model Year,Make,Model,Electric Vehicle Type,Clean Alternative Fuel Vehicle Eligibility,Electric Range,Base MSRP,Legislative District,DOL Vehicle ID,Vehicle Location,Electric Utility,2020 Census Tract\n",
            "1234,King,Seattle,WA,98101,2020,Tesla,Model S,Battery Electric Vehicle (BEV),Clean Alternative Fuel Vehicle Eligible,320,80000,37,1,POINT (122.33 -47.61),PSE,3.14\n",
            "5678,King,Redmond,WA,98052,2021,Nissan,Leaf,Battery Electric Vehicle (BEV),Not eligible due to low battery range,150,35000,48,2,POINT (122.12 -47.67),Seattle City Light,3.22\n",
            "9101,Pierce,Tacoma,WA,98402,2019,Chevrolet,Bolt EV,Battery Electric Vehicle (BEV),Eligibility unknown as battery range has not been researched,200,35000,25,3,POINT (122.44 -47.25),Tacoma Power,3.10\n",
            "1122,Snohomish,Everett,WA,98201,2022,BMW,i3,Plug-in Hybrid Electric Vehicle (PHEV),Clean Alternative Fuel Vehicle Eligible,140,35000,38,4,POINT (122.20 -47.98),Snohomish County PUD,3.50\n"
          ]
        }
      ]
    },
    {
      "cell_type": "markdown",
      "source": [
        "###remove_fields.sh"
      ],
      "metadata": {
        "id": "f_diHK39N94u"
      }
    },
    {
      "cell_type": "code",
      "source": [
        "%%writefile remove_columns.sh\n",
        "\n",
        "#!/bin/bash\n",
        "\n",
        "input_file=$1\n",
        "output_file=$2\n",
        "\n",
        "# Join all column numbers into a space-separated string\n",
        "columns_to_remove=\"$3\"\n",
        "\n",
        "cut --complement -d, -f$columns_to_remove \"$input_file\" > \"$output_file\"\n",
        "\n",
        "echo \"Columns $columns_to_remove have been removed from $input_file and saved to $output_file\"\n"
      ],
      "metadata": {
        "colab": {
          "base_uri": "https://localhost:8080/"
        },
        "id": "lCvxM-OVOCHZ",
        "outputId": "b07f9225-a211-492a-84d2-26229a4faac1"
      },
      "execution_count": null,
      "outputs": [
        {
          "output_type": "stream",
          "name": "stdout",
          "text": [
            "Overwriting remove_columns.sh\n"
          ]
        }
      ]
    },
    {
      "cell_type": "code",
      "source": [
        "!chmod +x remove_columns.sh\n"
      ],
      "metadata": {
        "id": "bCyBAdHWODrd"
      },
      "execution_count": null,
      "outputs": []
    },
    {
      "cell_type": "code",
      "source": [
        "%%writefile test_input.csv\n",
        "\n",
        "VIN,County,City,State,Postal Code,Model Year,Make,Model,Electric Vehicle Type,Clean Alternative Fuel Vehicle Eligibility,Electric Range,Base MSRP,Legislative District,DOL Vehicle ID,Vehicle Location,Electric Utility,2020 Census Tract\n",
        "1234,King,Seattle,WA,98101,2020,Tesla,Model S,Battery Electric Vehicle (BEV),Clean Alternative Fuel Vehicle Eligible,320,80000,37,1,POINT (122.33 -47.61),PSE,3.14\n",
        "5678,King,Redmond,WA,98052,2021,Nissan,Leaf,Battery Electric Vehicle (BEV),Not eligible due to low battery range,150,35000,48,2,POINT (122.12 -47.67),Seattle City Light,3.22\n",
        "9101,Pierce,Tacoma,WA,98402,2019,Chevrolet,Bolt EV,Plug-in Hybrid Electric Vehicle (PHEV),Eligibility unknown as battery range has not been researched,200,45000,25,3,POINT (122.44 -47.25),Tacoma Power,3.10\n",
        "1122,Snohomish,Everett,WA,98201,2022,BMW,i3,Plug-in Hybrid Electric Vehicle (PHEV),Clean Alternative Fuel Vehicle Eligible,140,42000,38,4,POINT (122.20 -47.98),Snohomish County PUD,3.50\n"
      ],
      "metadata": {
        "colab": {
          "base_uri": "https://localhost:8080/"
        },
        "id": "KQw3hfZ5ODwd",
        "outputId": "bfed6f02-20d4-48a2-9056-7305259c6a89"
      },
      "execution_count": null,
      "outputs": [
        {
          "output_type": "stream",
          "name": "stdout",
          "text": [
            "Overwriting test_input.csv\n"
          ]
        }
      ]
    },
    {
      "cell_type": "code",
      "source": [
        "!./remove_columns.sh test_input.csv test_output.csv 3,6\n"
      ],
      "metadata": {
        "colab": {
          "base_uri": "https://localhost:8080/"
        },
        "id": "1YxCU44AOD0T",
        "outputId": "6f94acab-a7f4-4d33-a9c6-7438a3283c76"
      },
      "execution_count": null,
      "outputs": [
        {
          "output_type": "stream",
          "name": "stdout",
          "text": [
            "Columns 3,6 have been removed from test_input.csv and saved to test_output.csv\n"
          ]
        }
      ]
    },
    {
      "cell_type": "code",
      "source": [
        "!cat test_output.csv\n"
      ],
      "metadata": {
        "colab": {
          "base_uri": "https://localhost:8080/"
        },
        "id": "PlLcgNu4OD3d",
        "outputId": "5ec98e68-5fce-4077-fcf2-22aadeb52c9d"
      },
      "execution_count": null,
      "outputs": [
        {
          "output_type": "stream",
          "name": "stdout",
          "text": [
            "\n",
            "VIN,County,State,Postal Code,Make,Model,Electric Vehicle Type,Clean Alternative Fuel Vehicle Eligibility,Electric Range,Base MSRP,Legislative District,DOL Vehicle ID,Vehicle Location,Electric Utility,2020 Census Tract\n",
            "1234,King,WA,98101,Tesla,Model S,Battery Electric Vehicle (BEV),Clean Alternative Fuel Vehicle Eligible,320,80000,37,1,POINT (122.33 -47.61),PSE,3.14\n",
            "5678,King,WA,98052,Nissan,Leaf,Battery Electric Vehicle (BEV),Not eligible due to low battery range,150,35000,48,2,POINT (122.12 -47.67),Seattle City Light,3.22\n",
            "9101,Pierce,WA,98402,Chevrolet,Bolt EV,Plug-in Hybrid Electric Vehicle (PHEV),Eligibility unknown as battery range has not been researched,200,45000,25,3,POINT (122.44 -47.25),Tacoma Power,3.10\n",
            "1122,Snohomish,WA,98201,BMW,i3,Plug-in Hybrid Electric Vehicle (PHEV),Clean Alternative Fuel Vehicle Eligible,140,42000,38,4,POINT (122.20 -47.98),Snohomish County PUD,3.50\n"
          ]
        }
      ]
    },
    {
      "cell_type": "markdown",
      "source": [
        "###remove_missing_values.sh"
      ],
      "metadata": {
        "id": "wxj94xDwOmUM"
      }
    },
    {
      "cell_type": "code",
      "source": [
        "%%writefile remove_missing_rows.sh\n",
        "\n",
        "#!/bin/bash\n",
        "\n",
        "input_file=$1\n",
        "output_file=$2\n",
        "\n",
        "# Use awk to remove rows with missing values\n",
        "awk -F',' -v OFS=',' '\n",
        "{\n",
        "    # Check if any field is empty (NF - number of fields, $i - field value)\n",
        "    for (i = 1; i <= NF; i++) {\n",
        "        if ($i == \"\" || $i == \" \") {\n",
        "            next  # Skip the row if any field is empty\n",
        "        }\n",
        "    }\n",
        "    # If no empty field, print the row\n",
        "    print $0\n",
        "}' \"$input_file\" > \"$output_file\"\n",
        "\n",
        "echo \"Rows with missing values have been removed from $input_file and saved to $output_file\"\n"
      ],
      "metadata": {
        "colab": {
          "base_uri": "https://localhost:8080/"
        },
        "id": "w_uPNf5GOpiS",
        "outputId": "b3198cd2-be22-4877-a3ae-430798f02fcf"
      },
      "execution_count": null,
      "outputs": [
        {
          "output_type": "stream",
          "name": "stdout",
          "text": [
            "Overwriting remove_missing_rows.sh\n"
          ]
        }
      ]
    },
    {
      "cell_type": "code",
      "source": [
        "!chmod +x remove_missing_rows.sh\n"
      ],
      "metadata": {
        "id": "F2GOEmlpOpoC"
      },
      "execution_count": null,
      "outputs": []
    },
    {
      "cell_type": "code",
      "source": [
        "%%writefile test_input.csv\n",
        "\n",
        "VIN,County,City,State,Postal Code,Model Year,Make,Model,Electric Vehicle Type,Clean Alternative Fuel Vehicle Eligibility,Electric Range,Base MSRP,Legislative District,DOL Vehicle ID,Vehicle Location,Electric Utility,2020 Census Tract\n",
        "1234,King,Seattle,WA,98101,2020,Tesla,Model S,Battery Electric Vehicle (BEV),Clean Alternative Fuel Vehicle Eligible,320,80000,37,1,POINT (122.33 -47.61),PSE,3.14\n",
        "5678,King,Redmond,WA,98052,2021,Nissan,Leaf,Battery Electric Vehicle (BEV),,150,35000,48,2,POINT (122.12 -47.67),Seattle City Light,3.22\n",
        "9101,Pierce,Tacoma,WA,98402,2019,Chevrolet,Bolt EV,Plug-in Hybrid Electric Vehicle (PHEV),Eligibility unknown as battery range has not been researched,200,45000,25,3,POINT (122.44 -47.25),Tacoma Power,3.10\n",
        "1122,Snohomish,Everett,WA,,2022,BMW,i3,Plug-in Hybrid Electric Vehicle (PHEV),Clean Alternative Fuel Vehicle Eligible,140,42000,38,4,POINT (122.20 -47.98),Snohomish County PUD,3.50\n"
      ],
      "metadata": {
        "colab": {
          "base_uri": "https://localhost:8080/"
        },
        "id": "flh0TfBnOpt1",
        "outputId": "bafa6a73-f2e7-490d-bdeb-5ecdb3580fed"
      },
      "execution_count": null,
      "outputs": [
        {
          "output_type": "stream",
          "name": "stdout",
          "text": [
            "Overwriting test_input.csv\n"
          ]
        }
      ]
    },
    {
      "cell_type": "code",
      "source": [
        "!./remove_missing_rows.sh test_input.csv test_output.csv\n"
      ],
      "metadata": {
        "colab": {
          "base_uri": "https://localhost:8080/"
        },
        "id": "2XNE0wH9Op60",
        "outputId": "84533344-9c25-4b70-8f3c-c1353066ed53"
      },
      "execution_count": null,
      "outputs": [
        {
          "output_type": "stream",
          "name": "stdout",
          "text": [
            "Rows with missing values have been removed from test_input.csv and saved to test_output.csv\n"
          ]
        }
      ]
    },
    {
      "cell_type": "code",
      "source": [
        "!cat test_output.csv\n"
      ],
      "metadata": {
        "colab": {
          "base_uri": "https://localhost:8080/"
        },
        "id": "bJunqTF-Op-0",
        "outputId": "f4aa54f1-f431-4bba-c224-825ed18fcf81"
      },
      "execution_count": null,
      "outputs": [
        {
          "output_type": "stream",
          "name": "stdout",
          "text": [
            "\n",
            "VIN,County,City,State,Postal Code,Model Year,Make,Model,Electric Vehicle Type,Clean Alternative Fuel Vehicle Eligibility,Electric Range,Base MSRP,Legislative District,DOL Vehicle ID,Vehicle Location,Electric Utility,2020 Census Tract\n",
            "1234,King,Seattle,WA,98101,2020,Tesla,Model S,Battery Electric Vehicle (BEV),Clean Alternative Fuel Vehicle Eligible,320,80000,37,1,POINT (122.33 -47.61),PSE,3.14\n",
            "9101,Pierce,Tacoma,WA,98402,2019,Chevrolet,Bolt EV,Plug-in Hybrid Electric Vehicle (PHEV),Eligibility unknown as battery range has not been researched,200,45000,25,3,POINT (122.44 -47.25),Tacoma Power,3.10\n"
          ]
        }
      ]
    },
    {
      "cell_type": "markdown",
      "source": [
        "###replace_zero_range.sh"
      ],
      "metadata": {
        "id": "_PYwEpmuPUtt"
      }
    },
    {
      "cell_type": "code",
      "source": [
        "%%writefile replace_electric_range.sh\n",
        "\n",
        "#!/bin/bash\n",
        "\n",
        "input=$1\n",
        "output=$2\n",
        "\n",
        "# Step 1: Calculate the average electric range for each make and model (excluding zero values)\n",
        "awk -F',' '$11 > 0 {sum[$8 FS $7] += $11; count[$8 FS $7]++}\n",
        "            END {for (key in sum) print key \",\" sum[key] / count[key]}' \"$input\" > averages.txt\n",
        "\n",
        "# Step 2: Use the calculated averages to replace rows with a zero electric range\n",
        "awk -F',' -v OFS=',' '\n",
        "    BEGIN {\n",
        "        # Load averages into an array\n",
        "        while ((getline < \"averages.txt\") > 0) {\n",
        "            # Split the line into make, model, and average\n",
        "            split($0, arr, \",\")\n",
        "            make_model[arr[1] FS arr[2]] = arr[3]\n",
        "        }\n",
        "    }\n",
        "    {\n",
        "        # Check if the electric range is 0 or an empty string (i.e., no value) and replace it with the average\n",
        "        if ($11 == 0 || length($11) == 0) {\n",
        "            key = $8 FS $7\n",
        "            if (key in make_model) {\n",
        "                $11 = make_model[key]\n",
        "            }\n",
        "        }\n",
        "\n",
        "        # Exclude rows where the electric range is still 0 or an empty string\n",
        "        if ($11 != 0 && length($11) > 0) {\n",
        "            print $0\n",
        "        }\n",
        "    }' \"$input\" > \"$output\""
      ],
      "metadata": {
        "colab": {
          "base_uri": "https://localhost:8080/"
        },
        "id": "QDGX7hBTPYOV",
        "outputId": "1dc1fb7b-a630-4e16-fadb-d12147162d96"
      },
      "execution_count": null,
      "outputs": [
        {
          "output_type": "stream",
          "name": "stdout",
          "text": [
            "Overwriting replace_electric_range.sh\n"
          ]
        }
      ]
    },
    {
      "cell_type": "code",
      "source": [
        "!chmod +x replace_electric_range.sh\n"
      ],
      "metadata": {
        "id": "q2jQTAv7QIce"
      },
      "execution_count": null,
      "outputs": []
    },
    {
      "cell_type": "code",
      "source": [
        "%%writefile test_input.csv\n",
        "\n",
        "VIN,County,City,State,Postal Code,Model Year,Make,Model,Electric Vehicle Type,Clean Alternative Fuel Vehicle Eligibility,Electric Range,Base MSRP,Legislative District,DOL Vehicle ID,Vehicle Location,Electric Utility,2020 Census Tract\n",
        "1234,King,Seattle,WA,98101,2020,Tesla,Model S,Battery Electric Vehicle (BEV),Clean Alternative Fuel Vehicle Eligible,320,80000,37,1,POINT (122.33 -47.61),PSE,3.14\n",
        "5678,King,Redmond,WA,98052,2021,Nissan,Leaf,Battery Electric Vehicle (BEV),Not eligible due to low battery range,150,35000,48,2,POINT (122.12 -47.67),Seattle City Light,3.22\n",
        "9101,Pierce,Tacoma,WA,98402,2019,Chevrolet,Bolt EV,Battery Electric Vehicle (BEV),Eligibility unknown as battery range has not been researched,0,45000,25,3,POINT (122.44 -47.25),Tacoma Power,3.10\n",
        "1122,Snohomish,Everett,WA,98201,2022,BMW,i3,Plug-in Hybrid Electric Vehicle (PHEV),Clean Alternative Fuel Vehicle Eligible,0,42000,38,4,POINT (122.20 -47.98),Snohomish County PUD,3.50\n"
      ],
      "metadata": {
        "colab": {
          "base_uri": "https://localhost:8080/"
        },
        "id": "lJLNGvvrQLGf",
        "outputId": "c70e6563-8e46-4a97-cd7d-57ad812cac48"
      },
      "execution_count": null,
      "outputs": [
        {
          "output_type": "stream",
          "name": "stdout",
          "text": [
            "Overwriting test_input.csv\n"
          ]
        }
      ]
    },
    {
      "cell_type": "code",
      "source": [
        "!./replace_electric_range.sh test_input.csv test_output.csv\n"
      ],
      "metadata": {
        "id": "1LUziz5mQTzw"
      },
      "execution_count": null,
      "outputs": []
    },
    {
      "cell_type": "code",
      "source": [
        "!cat test_output.csv\n"
      ],
      "metadata": {
        "colab": {
          "base_uri": "https://localhost:8080/"
        },
        "id": "2BwM7UMhQXGp",
        "outputId": "8b491bb4-34d2-4654-e870-13a7c7ca8620"
      },
      "execution_count": null,
      "outputs": [
        {
          "output_type": "stream",
          "name": "stdout",
          "text": [
            "VIN,County,City,State,Postal Code,Model Year,Make,Model,Electric Vehicle Type,Clean Alternative Fuel Vehicle Eligibility,Electric Range,Base MSRP,Legislative District,DOL Vehicle ID,Vehicle Location,Electric Utility,2020 Census Tract\n",
            "1234,King,Seattle,WA,98101,2020,Tesla,Model S,Battery Electric Vehicle (BEV),Clean Alternative Fuel Vehicle Eligible,320,80000,37,1,POINT (122.33 -47.61),PSE,3.14\n",
            "5678,King,Redmond,WA,98052,2021,Nissan,Leaf,Battery Electric Vehicle (BEV),Not eligible due to low battery range,150,35000,48,2,POINT (122.12 -47.67),Seattle City Light,3.22\n"
          ]
        }
      ]
    }
  ]
}